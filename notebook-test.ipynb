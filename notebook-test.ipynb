{
 "cells": [
  {
   "cell_type": "markdown",
   "id": "0a1171fa",
   "metadata": {
    "tags": []
   },
   "source": [
    "#### Start session PySpark"
   ]
  },
  {
   "cell_type": "code",
   "execution_count": 1,
   "id": "3979f543",
   "metadata": {},
   "outputs": [],
   "source": [
    "from pyspark.sql import SparkSession\n",
    "from pyspark.sql.types import StructType\n",
    "from pyspark.sql.functions import col, desc\n",
    "import json\n",
    "\n",
    "spark = SparkSession \\\n",
    "    .builder \\\n",
    "    .appName(\"Cognitivo.ai Test\") \\\n",
    "    .config(\"spark.some.config.option\", \"some-value\") \\\n",
    "    .getOrCreate()"
   ]
  },
  {
   "cell_type": "markdown",
   "id": "644c9f9e",
   "metadata": {
    "tags": []
   },
   "source": [
    "#### Importando arquivo de configuração com o tipo dos campos"
   ]
  },
  {
   "cell_type": "code",
   "execution_count": null,
   "id": "4804d286",
   "metadata": {},
   "outputs": [],
   "source": [
    "json_file_path = \"config/types_mapping.json\"\n",
    "\n",
    "with open(json_file_path, 'r') as j:\n",
    "     contents = json.loads(j.read())"
   ]
  },
  {
   "cell_type": "markdown",
   "id": "8278ffdb",
   "metadata": {
    "tags": []
   },
   "source": [
    "#### Lendo CSV, alocando em um dataframe e atribuindo o tipo à alguns campos"
   ]
  },
  {
   "cell_type": "code",
   "execution_count": null,
   "id": "c866d0db",
   "metadata": {},
   "outputs": [],
   "source": [
    "df = spark.read.csv(\"data/input/users/load.csv\", header=True)\n",
    "\n",
    "df = df.withColumn('age', col('age').cast(contents['age']))\n",
    "df = df.withColumn('create_date', col('create_date').cast(contents['create_date']))\n",
    "df = df.withColumn('update_date', col('update_date').cast(contents['update_date']))"
   ]
  },
  {
   "cell_type": "code",
   "execution_count": null,
   "id": "8ea2500f",
   "metadata": {},
   "outputs": [],
   "source": [
    "df.printSchema()"
   ]
  },
  {
   "cell_type": "code",
   "execution_count": null,
   "id": "1e350e15",
   "metadata": {},
   "outputs": [],
   "source": [
    "df.show()"
   ]
  },
  {
   "cell_type": "markdown",
   "id": "2e36b1b1",
   "metadata": {
    "tags": []
   },
   "source": [
    "#### Deduplicando os dados, mantendo apenas a última atualização de cada ID"
   ]
  },
  {
   "cell_type": "code",
   "execution_count": null,
   "id": "7fc7378f",
   "metadata": {},
   "outputs": [],
   "source": [
    "df = df.sort(desc(\"update_date\"))"
   ]
  },
  {
   "cell_type": "code",
   "execution_count": null,
   "id": "38d22033",
   "metadata": {},
   "outputs": [],
   "source": [
    "df.show()"
   ]
  },
  {
   "cell_type": "code",
   "execution_count": null,
   "id": "3d587b0d",
   "metadata": {},
   "outputs": [],
   "source": [
    "df = df.dropDuplicates(['id'])"
   ]
  },
  {
   "cell_type": "code",
   "execution_count": null,
   "id": "30e950bc",
   "metadata": {},
   "outputs": [],
   "source": [
    "df.show()"
   ]
  },
  {
   "cell_type": "markdown",
   "id": "14e84f68",
   "metadata": {
    "tags": []
   },
   "source": [
    "#### Exportando dataframe em formato parquet"
   ]
  },
  {
   "cell_type": "code",
   "execution_count": null,
   "id": "0cc3e874",
   "metadata": {},
   "outputs": [],
   "source": [
    "df.write.parquet(\"data/output/load.parquet\", mode='overwrite')"
   ]
  },
  {
   "cell_type": "markdown",
   "id": "91093472",
   "metadata": {
    "tags": []
   },
   "source": [
    "#### Testando a leitura do arquivo parquet"
   ]
  },
  {
   "cell_type": "code",
   "execution_count": 2,
   "id": "0d418f2c",
   "metadata": {},
   "outputs": [],
   "source": [
    "df_p = spark.read.parquet(\"data/output/load.parquet\", header=True)"
   ]
  },
  {
   "cell_type": "code",
   "execution_count": 3,
   "id": "405babb4",
   "metadata": {},
   "outputs": [
    {
     "name": "stdout",
     "output_type": "stream",
     "text": [
      "+---+--------------------+--------------------+---------------+--------------------+---+--------------------+--------------------+\n",
      "| id|                name|               email|          phone|             address|age|         create_date|         update_date|\n",
      "+---+--------------------+--------------------+---------------+--------------------+---+--------------------+--------------------+\n",
      "|  3|spongebob.squarep...|Spongebob Squarep...|(11) 98765-4321|122 Conch Street,...| 13|2018-05-19 04:07:...|2018-05-19 05:08:...|\n",
      "|  2|sherlock.holmes@c...|     Sherlock Holmes|(11) 94815-1623|221B Baker Street...| 34|2018-04-21 20:21:...|2018-04-21 20:21:...|\n",
      "|  1|david.lynch@cogni...|         David Lynch|(11) 99999-9999|Mulholland Drive,...| 72|2018-03-03 18:47:...|2018-05-23 10:13:...|\n",
      "+---+--------------------+--------------------+---------------+--------------------+---+--------------------+--------------------+\n",
      "\n"
     ]
    }
   ],
   "source": [
    "df_p.show()"
   ]
  },
  {
   "cell_type": "code",
   "execution_count": null,
   "id": "fa90904b",
   "metadata": {},
   "outputs": [],
   "source": []
  }
 ],
 "metadata": {
  "kernelspec": {
   "display_name": "Python 3",
   "language": "python",
   "name": "python3"
  },
  "language_info": {
   "codemirror_mode": {
    "name": "ipython",
    "version": 3
   },
   "file_extension": ".py",
   "mimetype": "text/x-python",
   "name": "python",
   "nbconvert_exporter": "python",
   "pygments_lexer": "ipython3",
   "version": "3.6.9"
  }
 },
 "nbformat": 4,
 "nbformat_minor": 5
}
